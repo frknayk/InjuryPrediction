{
 "cells": [
  {
   "cell_type": "code",
   "execution_count": 1,
   "metadata": {},
   "outputs": [],
   "source": [
    "import plotly.graph_objects as go\n",
    "import numpy as np"
   ]
  },
  {
   "cell_type": "code",
   "execution_count": 2,
   "metadata": {},
   "outputs": [
    {
     "data": {
      "application/vnd.plotly.v1+json": {
       "config": {
        "plotlyServerURL": "https://plot.ly"
       },
       "data": [
        {
         "mode": "lines",
         "name": "Historical Time Series",
         "type": "scatter",
         "x": [
          0,
          0.10101010101010101,
          0.20202020202020202,
          0.30303030303030304,
          0.40404040404040403,
          0.5050505050505051,
          0.6060606060606061,
          0.7070707070707071,
          0.8080808080808081,
          0.9090909090909091,
          1.0101010101010102,
          1.1111111111111112,
          1.2121212121212122,
          1.3131313131313131,
          1.4141414141414141,
          1.5151515151515151,
          1.6161616161616161,
          1.7171717171717171,
          1.8181818181818181,
          1.9191919191919191,
          2.0202020202020203,
          2.121212121212121,
          2.2222222222222223,
          2.323232323232323,
          2.4242424242424243,
          2.525252525252525,
          2.6262626262626263,
          2.727272727272727,
          2.8282828282828283,
          2.929292929292929,
          3.0303030303030303,
          3.131313131313131,
          3.2323232323232323,
          3.3333333333333335,
          3.4343434343434343,
          3.5353535353535355,
          3.6363636363636362,
          3.7373737373737375,
          3.8383838383838382,
          3.9393939393939394,
          4.040404040404041,
          4.141414141414141,
          4.242424242424242,
          4.343434343434343,
          4.444444444444445,
          4.545454545454545,
          4.646464646464646,
          4.747474747474747,
          4.848484848484849,
          4.94949494949495,
          5.05050505050505,
          5.151515151515151,
          5.252525252525253,
          5.353535353535354,
          5.454545454545454,
          5.555555555555555,
          5.656565656565657,
          5.757575757575758,
          5.858585858585858,
          5.959595959595959,
          6.0606060606060606,
          6.161616161616162,
          6.262626262626262,
          6.363636363636363,
          6.4646464646464645,
          6.565656565656566,
          6.666666666666667,
          6.767676767676767,
          6.8686868686868685,
          6.96969696969697,
          7.070707070707071,
          7.171717171717171,
          7.2727272727272725,
          7.373737373737374,
          7.474747474747475,
          7.575757575757575,
          7.6767676767676765,
          7.777777777777778,
          7.878787878787879,
          7.979797979797979,
          8.080808080808081,
          8.181818181818182,
          8.282828282828282,
          8.383838383838384,
          8.484848484848484,
          8.585858585858587,
          8.686868686868687,
          8.787878787878787,
          8.88888888888889,
          8.98989898989899,
          9.09090909090909,
          9.191919191919192,
          9.292929292929292,
          9.393939393939394,
          9.494949494949495,
          9.595959595959595,
          9.696969696969697,
          9.797979797979798,
          9.8989898989899,
          10
         ],
         "y": [
          -0.005964769578177783,
          0.03364470931634582,
          0.17522689788324022,
          0.33469344742886403,
          0.3075227583271164,
          0.40751960393092096,
          0.6092545439862913,
          0.6818879863356162,
          0.848352867889231,
          0.8386308208650947,
          0.9998507573445923,
          1.0632197401985335,
          0.7984922638572258,
          0.7692793170766619,
          0.923621145879728,
          1.0671573348537646,
          1.0580395949619188,
          1.0306404402595353,
          0.8434215901524189,
          1.122968777362951,
          0.8816789056341935,
          0.7510062417747091,
          0.702721293140389,
          0.6401384029743106,
          0.6637650783505177,
          0.6413249450369324,
          0.5440382862302062,
          0.421919648961666,
          0.2838617503913963,
          0.01409354010729963,
          0.04496466701673525,
          0.06269991948312431,
          -0.21712308241134837,
          -0.1641047967646166,
          -0.33169896114937697,
          -0.5044033673645946,
          -0.3455339168127326,
          -0.5271393141313642,
          -0.7007745943506116,
          -0.9083780946000757,
          -0.9783278284108423,
          -0.7663657774889203,
          -0.97404219865004,
          -0.8352680314445758,
          -1.038130683051072,
          -1.0669324831391263,
          -0.9414188752723139,
          -1.1587837819826399,
          -0.9233764245731068,
          -0.9552394459628496,
          -0.9605112566594775,
          -0.7692139162280193,
          -0.8893516228189262,
          -0.7857953681613757,
          -0.7407741382847319,
          -0.7507629471069825,
          -0.6153909391180449,
          -0.4070034634050661,
          -0.46428857929133727,
          -0.30043191386141865,
          -0.21693205193337384,
          -0.25247013842648974,
          0.047465430445298135,
          0.002619911209289727,
          0.16691586913158568,
          0.31880037318760074,
          0.4058308872204087,
          0.16951361091335204,
          0.5030057558422995,
          0.5426475105947992,
          0.6045030548432151,
          0.7448996860355188,
          0.9687984907303522,
          0.9130544507178998,
          1.0088496239497486,
          1.0627133307598187,
          1.1030651750495586,
          0.9174992727455259,
          0.9405226766245026,
          0.9751547899663444,
          1.0388837797634751,
          1.0391886295760617,
          0.885142388323272,
          0.9558577114912234,
          1.0129192737189223,
          0.7109487614248682,
          0.7911709886225579,
          0.6446145991615,
          0.527155762413713,
          0.37043229478890616,
          0.3255851827005131,
          0.15322097996283424,
          0.1852248783965869,
          0.004104058075163609,
          -0.17428665152750972,
          -0.1646297231247776,
          -0.2411742639085116,
          -0.36516816882311276,
          -0.6494495255858734,
          -0.6953333306618394
         ]
        },
        {
         "line": {
          "color": "blue"
         },
         "mode": "lines",
         "showlegend": false,
         "type": "scatter",
         "x": [
          0,
          0.10101010101010101,
          0.20202020202020202,
          0.30303030303030304,
          0.40404040404040403,
          0.5050505050505051,
          0.6060606060606061,
          0.7070707070707071,
          0.8080808080808081,
          0.9090909090909091,
          1.0101010101010102,
          1.1111111111111112,
          1.2121212121212122,
          1.3131313131313131,
          1.4141414141414141,
          1.5151515151515151,
          1.6161616161616161,
          1.7171717171717171,
          1.8181818181818181,
          1.9191919191919191,
          2.0202020202020203,
          2.121212121212121,
          2.2222222222222223,
          2.323232323232323,
          2.4242424242424243,
          2.525252525252525,
          2.6262626262626263,
          2.727272727272727,
          2.8282828282828283,
          2.929292929292929,
          3.0303030303030303,
          3.131313131313131,
          3.2323232323232323,
          3.3333333333333335,
          3.4343434343434343,
          3.5353535353535355,
          3.6363636363636362,
          3.7373737373737375,
          3.8383838383838382,
          3.9393939393939394,
          4.040404040404041,
          4.141414141414141,
          4.242424242424242,
          4.343434343434343,
          4.444444444444445,
          4.545454545454545,
          4.646464646464646,
          4.747474747474747,
          4.848484848484849,
          4.94949494949495,
          5.05050505050505,
          5.151515151515151,
          5.252525252525253,
          5.353535353535354,
          5.454545454545454,
          5.555555555555555,
          5.656565656565657,
          5.757575757575758,
          5.858585858585858,
          5.959595959595959,
          6.0606060606060606,
          6.161616161616162,
          6.262626262626262,
          6.363636363636363,
          6.4646464646464645,
          6.565656565656566,
          6.666666666666667,
          6.767676767676767,
          6.8686868686868685,
          6.96969696969697,
          7.070707070707071,
          7.171717171717171,
          7.2727272727272725,
          7.373737373737374,
          7.474747474747475,
          7.575757575757575,
          7.6767676767676765,
          7.777777777777778,
          7.878787878787879,
          7.979797979797979,
          8.080808080808081,
          8.181818181818182,
          8.282828282828282,
          8.383838383838384,
          8.484848484848484,
          8.585858585858587,
          8.686868686868687,
          8.787878787878787,
          8.88888888888889,
          8.98989898989899,
          9.09090909090909,
          9.191919191919192,
          9.292929292929292,
          9.393939393939394,
          9.494949494949495,
          9.595959595959595,
          9.696969696969697,
          9.797979797979798,
          9.8989898989899,
          10
         ],
         "y": [
          -3.253196072606853,
          -3.19561278168608,
          -2.9897840613649334,
          -2.7579554947970677,
          -2.7974555775734693,
          -2.6520826109940066,
          -2.358805292879649,
          -2.2532125721948875,
          -2.011210001847537,
          -2.0253436758508494,
          -1.7909660782750572,
          -1.6988418020443872,
          -2.0836961275828942,
          -2.1261651945857136,
          -1.90178682159884,
          -1.6931174233126185,
          -1.7063725703982493,
          -1.7462047908728477,
          -2.0183789727215578,
          -1.6119801142540326,
          -1.9627614238741933,
          -2.1527301442012217,
          -2.222925620685742,
          -2.3139070946074893,
          -2.279559212240703,
          -2.312182128799087,
          -2.45361509214848,
          -2.6311481779890755,
          -2.8318533717749395,
          -3.2240357929406263,
          -3.1791561042526766,
          -3.153373028311563,
          -3.5601728594156596,
          -3.483096173437382,
          -3.7267404675239124,
          -3.977813906103415,
          -3.746853387437867,
          -4.0108668690196,
          -4.263293589441748,
          -4.565102476725254,
          -4.666793687624091,
          -4.3586484460544455,
          -4.660563343974477,
          -4.458816856378421,
          -4.753733613943525,
          -4.795604965948151,
          -4.613136354948328,
          -4.929136136020882,
          -4.5869066817354405,
          -4.633228362340889,
          -4.64089239169688,
          -4.362789000441262,
          -4.537442257748698,
          -4.386894709408297,
          -4.321443947369713,
          -4.335965433145764,
          -4.139164921346202,
          -3.8362163097227073,
          -3.919496009066731,
          -3.6812851994803584,
          -3.559895143982512,
          -3.6115595442830073,
          -3.1755205555898316,
          -3.240715873799818,
          -3.0018664315403107,
          -2.781060457124321,
          -2.6545376260141014,
          -2.9980898981212567,
          -2.513267180499205,
          -2.4556369677261016,
          -2.365712891496668,
          -2.161607705468566,
          -1.8361091034322101,
          -1.9171484243908123,
          -1.7778837462640296,
          -1.6995780076913283,
          -1.6409154841293965,
          -1.9106866509201383,
          -1.8772157898901318,
          -1.8268684711820284,
          -1.7342208256690113,
          -1.7337776424730882,
          -1.9577262975142793,
          -1.8549220915468123,
          -1.7719673890398404,
          -2.2109647286722875,
          -2.094339618320846,
          -2.3073997101515675,
          -2.478158492050073,
          -2.705999233262131,
          -2.771196867121927,
          -3.021775726212728,
          -2.975249242008856,
          -3.238558257412732,
          -3.497898304676877,
          -3.4838592985314945,
          -3.595137878390725,
          -3.7753971824354275,
          -4.188678460722718,
          -4.255383213473371
         ]
        },
        {
         "mode": "text",
         "showlegend": false,
         "text": [
          "-253"
         ],
         "textfont": {
          "color": "black",
          "size": 10
         },
         "type": "scatter",
         "x": [
          0.5
         ],
         "y": [
          -3.253196072606853
         ]
        },
        {
         "mode": "text",
         "showlegend": false,
         "text": [
          "1037"
         ],
         "textfont": {
          "color": "black",
          "size": 10
         },
         "type": "scatter",
         "x": [
          2.5202020202020203
         ],
         "y": [
          -1.9627614238741933
         ]
        },
        {
         "mode": "text",
         "showlegend": false,
         "text": [
          "-1667"
         ],
         "textfont": {
          "color": "black",
          "size": 10
         },
         "type": "scatter",
         "x": [
          4.540404040404041
         ],
         "y": [
          -4.666793687624091
         ]
        },
        {
         "mode": "text",
         "showlegend": false,
         "text": [
          "-560"
         ],
         "textfont": {
          "color": "black",
          "size": 10
         },
         "type": "scatter",
         "x": [
          6.5606060606060606
         ],
         "y": [
          -3.559895143982512
         ]
        },
        {
         "mode": "text",
         "showlegend": false,
         "text": [
          "1266"
         ],
         "textfont": {
          "color": "black",
          "size": 10
         },
         "type": "scatter",
         "x": [
          8.580808080808081
         ],
         "y": [
          -1.7342208256690113
         ]
        },
        {
         "mode": "text",
         "showlegend": false,
         "text": [
          "-253"
         ],
         "textfont": {
          "color": "blue",
          "size": 12
         },
         "textposition": "middle center",
         "type": "scatter",
         "x": [
          0
         ],
         "y": [
          -8
         ]
        },
        {
         "mode": "text",
         "showlegend": false,
         "text": [
          "1037"
         ],
         "textfont": {
          "color": "blue",
          "size": 12
         },
         "textposition": "middle center",
         "type": "scatter",
         "x": [
          1
         ],
         "y": [
          -8
         ]
        },
        {
         "mode": "text",
         "showlegend": false,
         "text": [
          "-1667"
         ],
         "textfont": {
          "color": "blue",
          "size": 12
         },
         "textposition": "middle center",
         "type": "scatter",
         "x": [
          2
         ],
         "y": [
          -8
         ]
        },
        {
         "mode": "text",
         "showlegend": false,
         "text": [
          "-560"
         ],
         "textfont": {
          "color": "blue",
          "size": 12
         },
         "textposition": "middle center",
         "type": "scatter",
         "x": [
          3
         ],
         "y": [
          -8
         ]
        },
        {
         "mode": "text",
         "showlegend": false,
         "text": [
          "1266"
         ],
         "textfont": {
          "color": "blue",
          "size": 12
         },
         "textposition": "middle center",
         "type": "scatter",
         "x": [
          4
         ],
         "y": [
          -8
         ]
        }
       ],
       "layout": {
        "annotations": [
         {
          "font": {
           "size": 12
          },
          "showarrow": false,
          "text": "Historical Time Series",
          "x": -0.5,
          "xref": "x",
          "y": 0.8,
          "yref": "y"
         },
         {
          "font": {
           "color": "purple",
           "size": 12
          },
          "showarrow": false,
          "text": "Mean Scaling",
          "x": -0.5,
          "xref": "x",
          "y": -3,
          "yref": "y"
         },
         {
          "font": {
           "color": "purple",
           "size": 12
          },
          "showarrow": false,
          "text": "Quantization",
          "x": -0.5,
          "xref": "x",
          "y": -6,
          "yref": "y"
         },
         {
          "font": {
           "size": 12
          },
          "showarrow": false,
          "text": "Context Tokens",
          "x": 2,
          "xref": "x",
          "y": -8,
          "yref": "y"
         }
        ],
        "shapes": [
         {
          "fillcolor": "rgba(173,216,230,0.3)",
          "line": {
           "color": "black"
          },
          "type": "rect",
          "x0": -1,
          "x1": 5,
          "y0": -8.5,
          "y1": -7.5
         },
         {
          "fillcolor": "rgba(173,216,230,0.3)",
          "line": {
           "color": "black"
          },
          "type": "rect",
          "x0": -1,
          "x1": 5,
          "y0": -8.5,
          "y1": -7.5
         },
         {
          "fillcolor": "rgba(173,216,230,0.3)",
          "line": {
           "color": "black"
          },
          "type": "rect",
          "x0": -1,
          "x1": 5,
          "y0": -8.5,
          "y1": -7.5
         },
         {
          "fillcolor": "rgba(173,216,230,0.3)",
          "line": {
           "color": "black"
          },
          "type": "rect",
          "x0": -1,
          "x1": 5,
          "y0": -8.5,
          "y1": -7.5
         },
         {
          "fillcolor": "rgba(173,216,230,0.3)",
          "line": {
           "color": "black"
          },
          "type": "rect",
          "x0": -1,
          "x1": 5,
          "y0": -8.5,
          "y1": -7.5
         }
        ],
        "showlegend": false,
        "template": {
         "data": {
          "bar": [
           {
            "error_x": {
             "color": "#2a3f5f"
            },
            "error_y": {
             "color": "#2a3f5f"
            },
            "marker": {
             "line": {
              "color": "#E5ECF6",
              "width": 0.5
             },
             "pattern": {
              "fillmode": "overlay",
              "size": 10,
              "solidity": 0.2
             }
            },
            "type": "bar"
           }
          ],
          "barpolar": [
           {
            "marker": {
             "line": {
              "color": "#E5ECF6",
              "width": 0.5
             },
             "pattern": {
              "fillmode": "overlay",
              "size": 10,
              "solidity": 0.2
             }
            },
            "type": "barpolar"
           }
          ],
          "carpet": [
           {
            "aaxis": {
             "endlinecolor": "#2a3f5f",
             "gridcolor": "white",
             "linecolor": "white",
             "minorgridcolor": "white",
             "startlinecolor": "#2a3f5f"
            },
            "baxis": {
             "endlinecolor": "#2a3f5f",
             "gridcolor": "white",
             "linecolor": "white",
             "minorgridcolor": "white",
             "startlinecolor": "#2a3f5f"
            },
            "type": "carpet"
           }
          ],
          "choropleth": [
           {
            "colorbar": {
             "outlinewidth": 0,
             "ticks": ""
            },
            "type": "choropleth"
           }
          ],
          "contour": [
           {
            "colorbar": {
             "outlinewidth": 0,
             "ticks": ""
            },
            "colorscale": [
             [
              0,
              "#0d0887"
             ],
             [
              0.1111111111111111,
              "#46039f"
             ],
             [
              0.2222222222222222,
              "#7201a8"
             ],
             [
              0.3333333333333333,
              "#9c179e"
             ],
             [
              0.4444444444444444,
              "#bd3786"
             ],
             [
              0.5555555555555556,
              "#d8576b"
             ],
             [
              0.6666666666666666,
              "#ed7953"
             ],
             [
              0.7777777777777778,
              "#fb9f3a"
             ],
             [
              0.8888888888888888,
              "#fdca26"
             ],
             [
              1,
              "#f0f921"
             ]
            ],
            "type": "contour"
           }
          ],
          "contourcarpet": [
           {
            "colorbar": {
             "outlinewidth": 0,
             "ticks": ""
            },
            "type": "contourcarpet"
           }
          ],
          "heatmap": [
           {
            "colorbar": {
             "outlinewidth": 0,
             "ticks": ""
            },
            "colorscale": [
             [
              0,
              "#0d0887"
             ],
             [
              0.1111111111111111,
              "#46039f"
             ],
             [
              0.2222222222222222,
              "#7201a8"
             ],
             [
              0.3333333333333333,
              "#9c179e"
             ],
             [
              0.4444444444444444,
              "#bd3786"
             ],
             [
              0.5555555555555556,
              "#d8576b"
             ],
             [
              0.6666666666666666,
              "#ed7953"
             ],
             [
              0.7777777777777778,
              "#fb9f3a"
             ],
             [
              0.8888888888888888,
              "#fdca26"
             ],
             [
              1,
              "#f0f921"
             ]
            ],
            "type": "heatmap"
           }
          ],
          "heatmapgl": [
           {
            "colorbar": {
             "outlinewidth": 0,
             "ticks": ""
            },
            "colorscale": [
             [
              0,
              "#0d0887"
             ],
             [
              0.1111111111111111,
              "#46039f"
             ],
             [
              0.2222222222222222,
              "#7201a8"
             ],
             [
              0.3333333333333333,
              "#9c179e"
             ],
             [
              0.4444444444444444,
              "#bd3786"
             ],
             [
              0.5555555555555556,
              "#d8576b"
             ],
             [
              0.6666666666666666,
              "#ed7953"
             ],
             [
              0.7777777777777778,
              "#fb9f3a"
             ],
             [
              0.8888888888888888,
              "#fdca26"
             ],
             [
              1,
              "#f0f921"
             ]
            ],
            "type": "heatmapgl"
           }
          ],
          "histogram": [
           {
            "marker": {
             "pattern": {
              "fillmode": "overlay",
              "size": 10,
              "solidity": 0.2
             }
            },
            "type": "histogram"
           }
          ],
          "histogram2d": [
           {
            "colorbar": {
             "outlinewidth": 0,
             "ticks": ""
            },
            "colorscale": [
             [
              0,
              "#0d0887"
             ],
             [
              0.1111111111111111,
              "#46039f"
             ],
             [
              0.2222222222222222,
              "#7201a8"
             ],
             [
              0.3333333333333333,
              "#9c179e"
             ],
             [
              0.4444444444444444,
              "#bd3786"
             ],
             [
              0.5555555555555556,
              "#d8576b"
             ],
             [
              0.6666666666666666,
              "#ed7953"
             ],
             [
              0.7777777777777778,
              "#fb9f3a"
             ],
             [
              0.8888888888888888,
              "#fdca26"
             ],
             [
              1,
              "#f0f921"
             ]
            ],
            "type": "histogram2d"
           }
          ],
          "histogram2dcontour": [
           {
            "colorbar": {
             "outlinewidth": 0,
             "ticks": ""
            },
            "colorscale": [
             [
              0,
              "#0d0887"
             ],
             [
              0.1111111111111111,
              "#46039f"
             ],
             [
              0.2222222222222222,
              "#7201a8"
             ],
             [
              0.3333333333333333,
              "#9c179e"
             ],
             [
              0.4444444444444444,
              "#bd3786"
             ],
             [
              0.5555555555555556,
              "#d8576b"
             ],
             [
              0.6666666666666666,
              "#ed7953"
             ],
             [
              0.7777777777777778,
              "#fb9f3a"
             ],
             [
              0.8888888888888888,
              "#fdca26"
             ],
             [
              1,
              "#f0f921"
             ]
            ],
            "type": "histogram2dcontour"
           }
          ],
          "mesh3d": [
           {
            "colorbar": {
             "outlinewidth": 0,
             "ticks": ""
            },
            "type": "mesh3d"
           }
          ],
          "parcoords": [
           {
            "line": {
             "colorbar": {
              "outlinewidth": 0,
              "ticks": ""
             }
            },
            "type": "parcoords"
           }
          ],
          "pie": [
           {
            "automargin": true,
            "type": "pie"
           }
          ],
          "scatter": [
           {
            "fillpattern": {
             "fillmode": "overlay",
             "size": 10,
             "solidity": 0.2
            },
            "type": "scatter"
           }
          ],
          "scatter3d": [
           {
            "line": {
             "colorbar": {
              "outlinewidth": 0,
              "ticks": ""
             }
            },
            "marker": {
             "colorbar": {
              "outlinewidth": 0,
              "ticks": ""
             }
            },
            "type": "scatter3d"
           }
          ],
          "scattercarpet": [
           {
            "marker": {
             "colorbar": {
              "outlinewidth": 0,
              "ticks": ""
             }
            },
            "type": "scattercarpet"
           }
          ],
          "scattergeo": [
           {
            "marker": {
             "colorbar": {
              "outlinewidth": 0,
              "ticks": ""
             }
            },
            "type": "scattergeo"
           }
          ],
          "scattergl": [
           {
            "marker": {
             "colorbar": {
              "outlinewidth": 0,
              "ticks": ""
             }
            },
            "type": "scattergl"
           }
          ],
          "scattermapbox": [
           {
            "marker": {
             "colorbar": {
              "outlinewidth": 0,
              "ticks": ""
             }
            },
            "type": "scattermapbox"
           }
          ],
          "scatterpolar": [
           {
            "marker": {
             "colorbar": {
              "outlinewidth": 0,
              "ticks": ""
             }
            },
            "type": "scatterpolar"
           }
          ],
          "scatterpolargl": [
           {
            "marker": {
             "colorbar": {
              "outlinewidth": 0,
              "ticks": ""
             }
            },
            "type": "scatterpolargl"
           }
          ],
          "scatterternary": [
           {
            "marker": {
             "colorbar": {
              "outlinewidth": 0,
              "ticks": ""
             }
            },
            "type": "scatterternary"
           }
          ],
          "surface": [
           {
            "colorbar": {
             "outlinewidth": 0,
             "ticks": ""
            },
            "colorscale": [
             [
              0,
              "#0d0887"
             ],
             [
              0.1111111111111111,
              "#46039f"
             ],
             [
              0.2222222222222222,
              "#7201a8"
             ],
             [
              0.3333333333333333,
              "#9c179e"
             ],
             [
              0.4444444444444444,
              "#bd3786"
             ],
             [
              0.5555555555555556,
              "#d8576b"
             ],
             [
              0.6666666666666666,
              "#ed7953"
             ],
             [
              0.7777777777777778,
              "#fb9f3a"
             ],
             [
              0.8888888888888888,
              "#fdca26"
             ],
             [
              1,
              "#f0f921"
             ]
            ],
            "type": "surface"
           }
          ],
          "table": [
           {
            "cells": {
             "fill": {
              "color": "#EBF0F8"
             },
             "line": {
              "color": "white"
             }
            },
            "header": {
             "fill": {
              "color": "#C8D4E3"
             },
             "line": {
              "color": "white"
             }
            },
            "type": "table"
           }
          ]
         },
         "layout": {
          "annotationdefaults": {
           "arrowcolor": "#2a3f5f",
           "arrowhead": 0,
           "arrowwidth": 1
          },
          "autotypenumbers": "strict",
          "coloraxis": {
           "colorbar": {
            "outlinewidth": 0,
            "ticks": ""
           }
          },
          "colorscale": {
           "diverging": [
            [
             0,
             "#8e0152"
            ],
            [
             0.1,
             "#c51b7d"
            ],
            [
             0.2,
             "#de77ae"
            ],
            [
             0.3,
             "#f1b6da"
            ],
            [
             0.4,
             "#fde0ef"
            ],
            [
             0.5,
             "#f7f7f7"
            ],
            [
             0.6,
             "#e6f5d0"
            ],
            [
             0.7,
             "#b8e186"
            ],
            [
             0.8,
             "#7fbc41"
            ],
            [
             0.9,
             "#4d9221"
            ],
            [
             1,
             "#276419"
            ]
           ],
           "sequential": [
            [
             0,
             "#0d0887"
            ],
            [
             0.1111111111111111,
             "#46039f"
            ],
            [
             0.2222222222222222,
             "#7201a8"
            ],
            [
             0.3333333333333333,
             "#9c179e"
            ],
            [
             0.4444444444444444,
             "#bd3786"
            ],
            [
             0.5555555555555556,
             "#d8576b"
            ],
            [
             0.6666666666666666,
             "#ed7953"
            ],
            [
             0.7777777777777778,
             "#fb9f3a"
            ],
            [
             0.8888888888888888,
             "#fdca26"
            ],
            [
             1,
             "#f0f921"
            ]
           ],
           "sequentialminus": [
            [
             0,
             "#0d0887"
            ],
            [
             0.1111111111111111,
             "#46039f"
            ],
            [
             0.2222222222222222,
             "#7201a8"
            ],
            [
             0.3333333333333333,
             "#9c179e"
            ],
            [
             0.4444444444444444,
             "#bd3786"
            ],
            [
             0.5555555555555556,
             "#d8576b"
            ],
            [
             0.6666666666666666,
             "#ed7953"
            ],
            [
             0.7777777777777778,
             "#fb9f3a"
            ],
            [
             0.8888888888888888,
             "#fdca26"
            ],
            [
             1,
             "#f0f921"
            ]
           ]
          },
          "colorway": [
           "#636efa",
           "#EF553B",
           "#00cc96",
           "#ab63fa",
           "#FFA15A",
           "#19d3f3",
           "#FF6692",
           "#B6E880",
           "#FF97FF",
           "#FECB52"
          ],
          "font": {
           "color": "#2a3f5f"
          },
          "geo": {
           "bgcolor": "white",
           "lakecolor": "white",
           "landcolor": "#E5ECF6",
           "showlakes": true,
           "showland": true,
           "subunitcolor": "white"
          },
          "hoverlabel": {
           "align": "left"
          },
          "hovermode": "closest",
          "mapbox": {
           "style": "light"
          },
          "paper_bgcolor": "white",
          "plot_bgcolor": "#E5ECF6",
          "polar": {
           "angularaxis": {
            "gridcolor": "white",
            "linecolor": "white",
            "ticks": ""
           },
           "bgcolor": "#E5ECF6",
           "radialaxis": {
            "gridcolor": "white",
            "linecolor": "white",
            "ticks": ""
           }
          },
          "scene": {
           "xaxis": {
            "backgroundcolor": "#E5ECF6",
            "gridcolor": "white",
            "gridwidth": 2,
            "linecolor": "white",
            "showbackground": true,
            "ticks": "",
            "zerolinecolor": "white"
           },
           "yaxis": {
            "backgroundcolor": "#E5ECF6",
            "gridcolor": "white",
            "gridwidth": 2,
            "linecolor": "white",
            "showbackground": true,
            "ticks": "",
            "zerolinecolor": "white"
           },
           "zaxis": {
            "backgroundcolor": "#E5ECF6",
            "gridcolor": "white",
            "gridwidth": 2,
            "linecolor": "white",
            "showbackground": true,
            "ticks": "",
            "zerolinecolor": "white"
           }
          },
          "shapedefaults": {
           "line": {
            "color": "#2a3f5f"
           }
          },
          "ternary": {
           "aaxis": {
            "gridcolor": "white",
            "linecolor": "white",
            "ticks": ""
           },
           "baxis": {
            "gridcolor": "white",
            "linecolor": "white",
            "ticks": ""
           },
           "bgcolor": "#E5ECF6",
           "caxis": {
            "gridcolor": "white",
            "linecolor": "white",
            "ticks": ""
           }
          },
          "title": {
           "x": 0.05
          },
          "xaxis": {
           "automargin": true,
           "gridcolor": "white",
           "linecolor": "white",
           "ticks": "",
           "title": {
            "standoff": 15
           },
           "zerolinecolor": "white",
           "zerolinewidth": 2
          },
          "yaxis": {
           "automargin": true,
           "gridcolor": "white",
           "linecolor": "white",
           "ticks": "",
           "title": {
            "standoff": 15
           },
           "zerolinecolor": "white",
           "zerolinewidth": 2
          }
         }
        },
        "title": {
         "text": "Time Series Tokenization"
        },
        "xaxis": {
         "showticklabels": false,
         "zeroline": false
        },
        "yaxis": {
         "showticklabels": false,
         "zeroline": false
        }
       }
      }
     },
     "metadata": {},
     "output_type": "display_data"
    }
   ],
   "source": [
    "# Generate some synthetic data for historical time series representation\n",
    "x = np.linspace(0, 10, 100)\n",
    "y = np.sin(x) + np.random.normal(0, 0.1, 100)\n",
    "\n",
    "# Create the figure\n",
    "fig = go.Figure()\n",
    "\n",
    "# Add Historical Time Series\n",
    "fig.add_trace(go.Scatter(x=x, y=y, mode='lines', name='Historical Time Series'))\n",
    "\n",
    "# Create mean scaling and quantization sections\n",
    "scaled_y = (y - np.mean(y)) / np.std(y)  # Mock mean scaling\n",
    "quantized_y = np.round(scaled_y * 1000).astype(int)  # Mock quantization\n",
    "\n",
    "# Plot the scaled series\n",
    "fig.add_trace(go.Scatter(x=x, y=scaled_y - 3, mode='lines', line=dict(color=\"blue\"), showlegend=False))\n",
    "\n",
    "# Simulate quantization blocks\n",
    "for i in range(0, 100, 20):\n",
    "    fig.add_shape(type=\"rect\", x0=x[i], y0=scaled_y[i] - 3.5, x1=x[i+10], y1=scaled_y[i] - 2.5,\n",
    "                  line=dict(color=\"black\"), fillcolor=\"rgba(0,0,0,0.1)\")\n",
    "    fig.add_trace(go.Scatter(x=[x[i]+0.5], y=[scaled_y[i] - 3], text=[quantized_y[i]], \n",
    "                             mode=\"text\", showlegend=False, textfont=dict(size=10, color=\"black\")))\n",
    "\n",
    "# Create Context Tokens below\n",
    "for i, val in enumerate(quantized_y[::20]):\n",
    "    fig.add_trace(go.Scatter(x=[i], y=[-8], text=[val], mode=\"text\", showlegend=False,\n",
    "                             textfont=dict(size=12, color=\"blue\"), textposition=\"middle center\"))\n",
    "\n",
    "# Layout adjustments\n",
    "fig.update_layout(\n",
    "    title=\"Time Series Tokenization\",\n",
    "    xaxis=dict(showticklabels=False, zeroline=False),\n",
    "    yaxis=dict(showticklabels=False, zeroline=False),\n",
    "    showlegend=False,\n",
    "    shapes=[\n",
    "        # Box around context tokens\n",
    "        dict(type=\"rect\", x0=-1, y0=-8.5, x1=5, y1=-7.5, line=dict(color=\"black\"), fillcolor=\"rgba(173,216,230,0.3)\"),\n",
    "    ],\n",
    "    annotations=[\n",
    "        dict(x=-0.5, y=0.8, xref=\"x\", yref=\"y\", text=\"Historical Time Series\", showarrow=False, font=dict(size=12)),\n",
    "        dict(x=-0.5, y=-3, xref=\"x\", yref=\"y\", text=\"Mean Scaling\", showarrow=False, font=dict(size=12, color=\"purple\")),\n",
    "        dict(x=-0.5, y=-6, xref=\"x\", yref=\"y\", text=\"Quantization\", showarrow=False, font=dict(size=12, color=\"purple\")),\n",
    "        dict(x=2, y=-8, xref=\"x\", yref=\"y\", text=\"Context Tokens\", showarrow=False, font=dict(size=12)),\n",
    "    ]\n",
    ")\n",
    "\n",
    "fig.show()"
   ]
  },
  {
   "cell_type": "code",
   "execution_count": null,
   "metadata": {},
   "outputs": [],
   "source": []
  }
 ],
 "metadata": {
  "kernelspec": {
   "display_name": "llm4ts",
   "language": "python",
   "name": "python3"
  },
  "language_info": {
   "codemirror_mode": {
    "name": "ipython",
    "version": 3
   },
   "file_extension": ".py",
   "mimetype": "text/x-python",
   "name": "python",
   "nbconvert_exporter": "python",
   "pygments_lexer": "ipython3",
   "version": "3.10.14"
  }
 },
 "nbformat": 4,
 "nbformat_minor": 2
}
